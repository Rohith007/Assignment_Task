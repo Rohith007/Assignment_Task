{
 "cells": [
  {
   "cell_type": "code",
   "execution_count": 1,
   "metadata": {
    "collapsed": false
   },
   "outputs": [],
   "source": [
    "import datetime\n",
    "import calendar\n",
    "\n",
    "def weekdays_count(start,end):\n",
    "    Starting_Date = datetime.datetime.strptime(start, '%d/%m/%Y')\n",
    "    Ending_Date = datetime.datetime.strptime(end, '%d/%m/%Y')\n",
    "    weeks = {}\n",
    "    for i in range((Ending_Date - Starting_Date).days):\n",
    "        day = calendar.day_name[(Starting_Date + datetime.timedelta(days = i+1)).weekday()]\n",
    "        weeks[day] = weeks[day] + 1 if day in weeks else 1\n",
    "    return weeks"
   ]
  },
  {
   "cell_type": "code",
   "execution_count": 2,
   "metadata": {
    "collapsed": false
   },
   "outputs": [
    {
     "name": "stdout",
     "output_type": "stream",
     "text": [
      "{'Monday': 573, 'Tuesday': 574, 'Friday': 574, 'Wednesday': 574, 'Thursday': 574, 'Sunday': 574, 'Saturday': 574}\n"
     ]
    }
   ],
   "source": [
    "print weekdays_count(\"1/1/1990\", \"31/12/2000\")"
   ]
  },
  {
   "cell_type": "markdown",
   "metadata": {},
   "source": [
    "So, the total number of Thursdays between 1990 & 2000 are 574."
   ]
  }
 ],
 "metadata": {
  "kernelspec": {
   "display_name": "Python 2",
   "language": "python",
   "name": "python2"
  },
  "language_info": {
   "codemirror_mode": {
    "name": "ipython",
    "version": 2
   },
   "file_extension": ".py",
   "mimetype": "text/x-python",
   "name": "python",
   "nbconvert_exporter": "python",
   "pygments_lexer": "ipython2",
   "version": "2.7.11"
  }
 },
 "nbformat": 4,
 "nbformat_minor": 0
}
