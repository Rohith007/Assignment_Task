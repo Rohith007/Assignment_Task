{
 "cells": [
  {
   "cell_type": "code",
   "execution_count": 1,
   "metadata": {
    "collapsed": true
   },
   "outputs": [],
   "source": [
    "import pandas as pd\n",
    "import numpy as np"
   ]
  },
  {
   "cell_type": "code",
   "execution_count": 2,
   "metadata": {
    "collapsed": false
   },
   "outputs": [
    {
     "data": {
      "text/html": [
       "<div>\n",
       "<table border=\"1\" class=\"dataframe\">\n",
       "  <thead>\n",
       "    <tr style=\"text-align: right;\">\n",
       "      <th></th>\n",
       "      <th>STUID</th>\n",
       "      <th>State</th>\n",
       "      <th>District</th>\n",
       "      <th>Gender</th>\n",
       "      <th>Age</th>\n",
       "      <th>Category</th>\n",
       "      <th>Same language</th>\n",
       "      <th>Siblings</th>\n",
       "      <th>Handicap</th>\n",
       "      <th>Father edu</th>\n",
       "      <th>...</th>\n",
       "      <th>Express science views</th>\n",
       "      <th>Watch TV</th>\n",
       "      <th>Read magazine</th>\n",
       "      <th>Read a book</th>\n",
       "      <th>Play games</th>\n",
       "      <th>Help in household</th>\n",
       "      <th>Maths %</th>\n",
       "      <th>Reading %</th>\n",
       "      <th>Science %</th>\n",
       "      <th>Social %</th>\n",
       "    </tr>\n",
       "  </thead>\n",
       "  <tbody>\n",
       "    <tr>\n",
       "      <th>0</th>\n",
       "      <td>11011001001</td>\n",
       "      <td>AP</td>\n",
       "      <td>1</td>\n",
       "      <td>1</td>\n",
       "      <td>3</td>\n",
       "      <td>3</td>\n",
       "      <td>1</td>\n",
       "      <td>5</td>\n",
       "      <td>2</td>\n",
       "      <td>1</td>\n",
       "      <td>...</td>\n",
       "      <td>3</td>\n",
       "      <td>3</td>\n",
       "      <td>4</td>\n",
       "      <td>3</td>\n",
       "      <td>4</td>\n",
       "      <td>4</td>\n",
       "      <td>20.37</td>\n",
       "      <td>NaN</td>\n",
       "      <td>27.78</td>\n",
       "      <td>NaN</td>\n",
       "    </tr>\n",
       "    <tr>\n",
       "      <th>1</th>\n",
       "      <td>11011001002</td>\n",
       "      <td>AP</td>\n",
       "      <td>1</td>\n",
       "      <td>2</td>\n",
       "      <td>3</td>\n",
       "      <td>4</td>\n",
       "      <td>2</td>\n",
       "      <td>5</td>\n",
       "      <td>2</td>\n",
       "      <td>2</td>\n",
       "      <td>...</td>\n",
       "      <td>3</td>\n",
       "      <td>4</td>\n",
       "      <td>4</td>\n",
       "      <td>3</td>\n",
       "      <td>4</td>\n",
       "      <td>4</td>\n",
       "      <td>12.96</td>\n",
       "      <td>NaN</td>\n",
       "      <td>38.18</td>\n",
       "      <td>NaN</td>\n",
       "    </tr>\n",
       "    <tr>\n",
       "      <th>2</th>\n",
       "      <td>11011001003</td>\n",
       "      <td>AP</td>\n",
       "      <td>1</td>\n",
       "      <td>2</td>\n",
       "      <td>3</td>\n",
       "      <td>4</td>\n",
       "      <td>2</td>\n",
       "      <td>5</td>\n",
       "      <td>2</td>\n",
       "      <td>1</td>\n",
       "      <td>...</td>\n",
       "      <td>3</td>\n",
       "      <td>4</td>\n",
       "      <td>3</td>\n",
       "      <td>3</td>\n",
       "      <td>4</td>\n",
       "      <td>4</td>\n",
       "      <td>27.78</td>\n",
       "      <td>70.00</td>\n",
       "      <td>NaN</td>\n",
       "      <td>NaN</td>\n",
       "    </tr>\n",
       "    <tr>\n",
       "      <th>3</th>\n",
       "      <td>11011001004</td>\n",
       "      <td>AP</td>\n",
       "      <td>1</td>\n",
       "      <td>2</td>\n",
       "      <td>3</td>\n",
       "      <td>3</td>\n",
       "      <td>2</td>\n",
       "      <td>4</td>\n",
       "      <td>2</td>\n",
       "      <td>1</td>\n",
       "      <td>...</td>\n",
       "      <td>3</td>\n",
       "      <td>4</td>\n",
       "      <td>3</td>\n",
       "      <td>3</td>\n",
       "      <td>4</td>\n",
       "      <td>4</td>\n",
       "      <td>NaN</td>\n",
       "      <td>56.67</td>\n",
       "      <td>NaN</td>\n",
       "      <td>36.00</td>\n",
       "    </tr>\n",
       "    <tr>\n",
       "      <th>4</th>\n",
       "      <td>11011001005</td>\n",
       "      <td>AP</td>\n",
       "      <td>1</td>\n",
       "      <td>2</td>\n",
       "      <td>3</td>\n",
       "      <td>3</td>\n",
       "      <td>2</td>\n",
       "      <td>5</td>\n",
       "      <td>2</td>\n",
       "      <td>1</td>\n",
       "      <td>...</td>\n",
       "      <td>3</td>\n",
       "      <td>2</td>\n",
       "      <td>3</td>\n",
       "      <td>3</td>\n",
       "      <td>4</td>\n",
       "      <td>4</td>\n",
       "      <td>NaN</td>\n",
       "      <td>NaN</td>\n",
       "      <td>14.55</td>\n",
       "      <td>8.33</td>\n",
       "    </tr>\n",
       "  </tbody>\n",
       "</table>\n",
       "<p>5 rows × 64 columns</p>\n",
       "</div>"
      ],
      "text/plain": [
       "         STUID State  District  Gender  Age  Category  Same language  \\\n",
       "0  11011001001    AP         1       1    3         3              1   \n",
       "1  11011001002    AP         1       2    3         4              2   \n",
       "2  11011001003    AP         1       2    3         4              2   \n",
       "3  11011001004    AP         1       2    3         3              2   \n",
       "4  11011001005    AP         1       2    3         3              2   \n",
       "\n",
       "   Siblings  Handicap  Father edu    ...     Express science views  Watch TV  \\\n",
       "0         5         2           1    ...                         3         3   \n",
       "1         5         2           2    ...                         3         4   \n",
       "2         5         2           1    ...                         3         4   \n",
       "3         4         2           1    ...                         3         4   \n",
       "4         5         2           1    ...                         3         2   \n",
       "\n",
       "   Read magazine  Read a book  Play games Help in household  Maths %  \\\n",
       "0              4            3           4                 4    20.37   \n",
       "1              4            3           4                 4    12.96   \n",
       "2              3            3           4                 4    27.78   \n",
       "3              3            3           4                 4      NaN   \n",
       "4              3            3           4                 4      NaN   \n",
       "\n",
       "   Reading %  Science %  Social %  \n",
       "0        NaN      27.78       NaN  \n",
       "1        NaN      38.18       NaN  \n",
       "2      70.00        NaN       NaN  \n",
       "3      56.67        NaN     36.00  \n",
       "4        NaN      14.55      8.33  \n",
       "\n",
       "[5 rows x 64 columns]"
      ]
     },
     "execution_count": 2,
     "metadata": {},
     "output_type": "execute_result"
    }
   ],
   "source": [
    "NASdata = pd.read_csv(\"C:/Users/Rohith007/Downloads/ISB_CBA/BigDataManagement 1/71710097_BDM_Assignment_1/nas-pupil-marks.csv\")\n",
    "NASdata.head()"
   ]
  },
  {
   "cell_type": "code",
   "execution_count": 3,
   "metadata": {
    "collapsed": false
   },
   "outputs": [
    {
     "data": {
      "text/html": [
       "<div>\n",
       "<table border=\"1\" class=\"dataframe\">\n",
       "  <thead>\n",
       "    <tr style=\"text-align: right;\">\n",
       "      <th></th>\n",
       "      <th>State</th>\n",
       "      <th>District</th>\n",
       "      <th>Gender</th>\n",
       "      <th>Age</th>\n",
       "      <th>Category</th>\n",
       "      <th>Same language</th>\n",
       "      <th>Siblings</th>\n",
       "      <th>Handicap</th>\n",
       "      <th>Father edu</th>\n",
       "      <th>Mother edu</th>\n",
       "      <th>...</th>\n",
       "      <th>Observe experiments</th>\n",
       "      <th>Conduct experiments</th>\n",
       "      <th>Solve science problems</th>\n",
       "      <th>Express science views</th>\n",
       "      <th>Watch TV</th>\n",
       "      <th>Read magazine</th>\n",
       "      <th>Read a book</th>\n",
       "      <th>Play games</th>\n",
       "      <th>Help in household</th>\n",
       "      <th>Mean</th>\n",
       "    </tr>\n",
       "  </thead>\n",
       "  <tbody>\n",
       "    <tr>\n",
       "      <th>0</th>\n",
       "      <td>AP</td>\n",
       "      <td>1</td>\n",
       "      <td>1</td>\n",
       "      <td>3</td>\n",
       "      <td>3</td>\n",
       "      <td>1</td>\n",
       "      <td>5</td>\n",
       "      <td>2</td>\n",
       "      <td>1</td>\n",
       "      <td>1</td>\n",
       "      <td>...</td>\n",
       "      <td>3</td>\n",
       "      <td>3</td>\n",
       "      <td>3</td>\n",
       "      <td>3</td>\n",
       "      <td>3</td>\n",
       "      <td>4</td>\n",
       "      <td>3</td>\n",
       "      <td>4</td>\n",
       "      <td>4</td>\n",
       "      <td>24.075</td>\n",
       "    </tr>\n",
       "    <tr>\n",
       "      <th>1</th>\n",
       "      <td>AP</td>\n",
       "      <td>1</td>\n",
       "      <td>2</td>\n",
       "      <td>3</td>\n",
       "      <td>4</td>\n",
       "      <td>2</td>\n",
       "      <td>5</td>\n",
       "      <td>2</td>\n",
       "      <td>2</td>\n",
       "      <td>1</td>\n",
       "      <td>...</td>\n",
       "      <td>3</td>\n",
       "      <td>3</td>\n",
       "      <td>3</td>\n",
       "      <td>3</td>\n",
       "      <td>4</td>\n",
       "      <td>4</td>\n",
       "      <td>3</td>\n",
       "      <td>4</td>\n",
       "      <td>4</td>\n",
       "      <td>25.570</td>\n",
       "    </tr>\n",
       "    <tr>\n",
       "      <th>2</th>\n",
       "      <td>AP</td>\n",
       "      <td>1</td>\n",
       "      <td>2</td>\n",
       "      <td>3</td>\n",
       "      <td>4</td>\n",
       "      <td>2</td>\n",
       "      <td>5</td>\n",
       "      <td>2</td>\n",
       "      <td>1</td>\n",
       "      <td>1</td>\n",
       "      <td>...</td>\n",
       "      <td>3</td>\n",
       "      <td>3</td>\n",
       "      <td>3</td>\n",
       "      <td>3</td>\n",
       "      <td>4</td>\n",
       "      <td>3</td>\n",
       "      <td>3</td>\n",
       "      <td>4</td>\n",
       "      <td>4</td>\n",
       "      <td>48.890</td>\n",
       "    </tr>\n",
       "    <tr>\n",
       "      <th>3</th>\n",
       "      <td>AP</td>\n",
       "      <td>1</td>\n",
       "      <td>2</td>\n",
       "      <td>3</td>\n",
       "      <td>3</td>\n",
       "      <td>2</td>\n",
       "      <td>4</td>\n",
       "      <td>2</td>\n",
       "      <td>1</td>\n",
       "      <td>1</td>\n",
       "      <td>...</td>\n",
       "      <td>3</td>\n",
       "      <td>3</td>\n",
       "      <td>3</td>\n",
       "      <td>3</td>\n",
       "      <td>4</td>\n",
       "      <td>3</td>\n",
       "      <td>3</td>\n",
       "      <td>4</td>\n",
       "      <td>4</td>\n",
       "      <td>46.335</td>\n",
       "    </tr>\n",
       "    <tr>\n",
       "      <th>4</th>\n",
       "      <td>AP</td>\n",
       "      <td>1</td>\n",
       "      <td>2</td>\n",
       "      <td>3</td>\n",
       "      <td>3</td>\n",
       "      <td>2</td>\n",
       "      <td>5</td>\n",
       "      <td>2</td>\n",
       "      <td>1</td>\n",
       "      <td>1</td>\n",
       "      <td>...</td>\n",
       "      <td>3</td>\n",
       "      <td>3</td>\n",
       "      <td>3</td>\n",
       "      <td>3</td>\n",
       "      <td>2</td>\n",
       "      <td>3</td>\n",
       "      <td>3</td>\n",
       "      <td>4</td>\n",
       "      <td>4</td>\n",
       "      <td>11.440</td>\n",
       "    </tr>\n",
       "  </tbody>\n",
       "</table>\n",
       "<p>5 rows × 60 columns</p>\n",
       "</div>"
      ],
      "text/plain": [
       "  State  District  Gender  Age  Category  Same language  Siblings  Handicap  \\\n",
       "0    AP         1       1    3         3              1         5         2   \n",
       "1    AP         1       2    3         4              2         5         2   \n",
       "2    AP         1       2    3         4              2         5         2   \n",
       "3    AP         1       2    3         3              2         4         2   \n",
       "4    AP         1       2    3         3              2         5         2   \n",
       "\n",
       "   Father edu  Mother edu   ...    Observe experiments  Conduct experiments  \\\n",
       "0           1           1   ...                      3                    3   \n",
       "1           2           1   ...                      3                    3   \n",
       "2           1           1   ...                      3                    3   \n",
       "3           1           1   ...                      3                    3   \n",
       "4           1           1   ...                      3                    3   \n",
       "\n",
       "   Solve science problems  Express science views Watch TV  Read magazine  \\\n",
       "0                       3                      3        3              4   \n",
       "1                       3                      3        4              4   \n",
       "2                       3                      3        4              3   \n",
       "3                       3                      3        4              3   \n",
       "4                       3                      3        2              3   \n",
       "\n",
       "   Read a book  Play games  Help in household    Mean  \n",
       "0            3           4                  4  24.075  \n",
       "1            3           4                  4  25.570  \n",
       "2            3           4                  4  48.890  \n",
       "3            3           4                  4  46.335  \n",
       "4            3           4                  4  11.440  \n",
       "\n",
       "[5 rows x 60 columns]"
      ]
     },
     "execution_count": 3,
     "metadata": {},
     "output_type": "execute_result"
    }
   ],
   "source": [
    "#Find the Mean of the 4 scores\n",
    "NASdata_Avg = NASdata.drop('STUID', axis = 1)\n",
    "NASdata_Avg['Mean'] = NASdata_Avg[['Maths %','Reading %','Science %','Social %']].mean(axis=1)\n",
    "\n",
    "NASdata_Avg_New = NASdata_Avg.drop(['Maths %','Reading %','Science %','Social %'], axis = 1)\n",
    "NASdata_Mean = NASdata_Avg_New.dropna()\n",
    "NASdata_Mean.head()"
   ]
  },
  {
   "cell_type": "code",
   "execution_count": 4,
   "metadata": {
    "collapsed": false
   },
   "outputs": [
    {
     "data": {
      "text/plain": [
       "(161914, 60)"
      ]
     },
     "execution_count": 4,
     "metadata": {},
     "output_type": "execute_result"
    }
   ],
   "source": [
    "NASdata_Mean.shape"
   ]
  },
  {
   "cell_type": "code",
   "execution_count": 5,
   "metadata": {
    "collapsed": false
   },
   "outputs": [
    {
     "data": {
      "text/plain": [
       "array(['State', 'District', 'Gender', 'Age', 'Category', 'Same language',\n",
       "       'Siblings', 'Handicap', 'Father edu', 'Mother edu',\n",
       "       'Father occupation', 'Mother occupation', 'Below poverty',\n",
       "       'Use calculator', 'Use computer', 'Use Internet', 'Use dictionary',\n",
       "       'Read other books', '# Books', 'Distance', 'Computer use',\n",
       "       'Library use', 'Like school', 'Subjects', 'Give Lang HW',\n",
       "       'Give Math HW', 'Give Scie HW', 'Give SoSc HW', 'Correct Lang HW',\n",
       "       'Correct Math HW', 'Correct Scie HW', 'Correct SocS HW',\n",
       "       'Help in Study', 'Private tuition', 'English is difficult',\n",
       "       'Read English', 'Dictionary to learn', 'Answer English WB',\n",
       "       'Answer English aloud', 'Maths is difficult', 'Solve Maths',\n",
       "       'Solve Maths in groups', 'Draw geometry', 'Explain answers',\n",
       "       'SocSci is difficult', 'Historical excursions',\n",
       "       'Participate in SocSci', 'Small groups in SocSci',\n",
       "       'Express SocSci views', 'Science is difficult',\n",
       "       'Observe experiments', 'Conduct experiments',\n",
       "       'Solve science problems', 'Express science views', 'Watch TV',\n",
       "       'Read magazine', 'Read a book', 'Play games', 'Help in household',\n",
       "       'Mean'], dtype=object)"
      ]
     },
     "execution_count": 5,
     "metadata": {},
     "output_type": "execute_result"
    }
   ],
   "source": [
    "NASdata_Mean.columns.values "
   ]
  },
  {
   "cell_type": "code",
   "execution_count": 6,
   "metadata": {
    "collapsed": false
   },
   "outputs": [
    {
     "data": {
      "text/plain": [
       "State\n",
       "AN    37.395934\n",
       "AP    34.260298\n",
       "AR    36.532420\n",
       "BR    39.902583\n",
       "CG    36.046169\n",
       "CH    39.242711\n",
       "DD    48.069646\n",
       "DL    34.494908\n",
       "DN    43.767605\n",
       "GA    39.982203\n",
       "GJ    36.694267\n",
       "HP    35.080134\n",
       "HR    38.206725\n",
       "JH    40.813080\n",
       "JK    34.367811\n",
       "KA    36.926215\n",
       "KL    39.852224\n",
       "MG    33.032593\n",
       "MH    41.530410\n",
       "MN    40.345225\n",
       "MP    41.846156\n",
       "MZ    36.678047\n",
       "NG    35.161490\n",
       "OR    39.109962\n",
       "PB    39.609514\n",
       "PY    29.992643\n",
       "RJ    36.345205\n",
       "SK    38.840403\n",
       "TN    32.587936\n",
       "TR    42.761611\n",
       "UK    36.885616\n",
       "UP    46.287902\n",
       "WB    42.217801\n",
       "Name: Mean, dtype: float64"
      ]
     },
     "execution_count": 6,
     "metadata": {},
     "output_type": "execute_result"
    }
   ],
   "source": [
    "#Group by States&Boys\n",
    "#Mean of Scores across the states\n",
    "NASdata_Mean_Boys = NASdata_Mean[NASdata_Mean.Gender==1].groupby('State')['Mean'].mean()\n",
    "NASdata_Mean_Boys"
   ]
  },
  {
   "cell_type": "code",
   "execution_count": 7,
   "metadata": {
    "collapsed": false
   },
   "outputs": [
    {
     "data": {
      "text/plain": [
       "State\n",
       "AN    39.035124\n",
       "AP    34.867408\n",
       "AR    35.255696\n",
       "BR    37.942931\n",
       "CG    35.778946\n",
       "CH    40.018565\n",
       "DD    49.281667\n",
       "DL    36.833209\n",
       "DN    43.783475\n",
       "GA    42.865638\n",
       "GJ    38.684342\n",
       "HP    35.436425\n",
       "HR    38.599111\n",
       "JH    38.082376\n",
       "JK    36.299566\n",
       "KA    37.712962\n",
       "KL    44.267147\n",
       "MG    34.217867\n",
       "MH    43.020707\n",
       "MN    39.475691\n",
       "MP    41.523129\n",
       "MZ    38.389842\n",
       "NG    36.226604\n",
       "OR    38.367285\n",
       "PB    40.869914\n",
       "PY    32.184446\n",
       "RJ    37.537447\n",
       "SK    37.746661\n",
       "TN    34.291867\n",
       "TR    43.288982\n",
       "UK    36.040378\n",
       "UP    44.682760\n",
       "WB    40.866148\n",
       "Name: Mean, dtype: float64"
      ]
     },
     "execution_count": 7,
     "metadata": {},
     "output_type": "execute_result"
    }
   ],
   "source": [
    "#Group by States&Girls\n",
    "#Mean of Scores across the states\n",
    "NASdata_Mean_Girls = NASdata_Mean[NASdata_Mean.Gender==2].groupby('State')['Mean'].mean()\n",
    "NASdata_Mean_Girls"
   ]
  },
  {
   "cell_type": "code",
   "execution_count": 8,
   "metadata": {
    "collapsed": true
   },
   "outputs": [],
   "source": [
    "# import preprocessing from sklearn\n",
    "from sklearn import preprocessing"
   ]
  },
  {
   "cell_type": "code",
   "execution_count": 9,
   "metadata": {
    "collapsed": true
   },
   "outputs": [],
   "source": [
    "# encode labels with numeric values between 0 and n_classes-1.\n",
    "le = preprocessing.LabelEncoder()"
   ]
  },
  {
   "cell_type": "code",
   "execution_count": 10,
   "metadata": {
    "collapsed": false
   },
   "outputs": [
    {
     "data": {
      "text/html": [
       "<div>\n",
       "<table border=\"1\" class=\"dataframe\">\n",
       "  <thead>\n",
       "    <tr style=\"text-align: right;\">\n",
       "      <th></th>\n",
       "      <th>State</th>\n",
       "      <th>District</th>\n",
       "      <th>Gender</th>\n",
       "      <th>Age</th>\n",
       "      <th>Category</th>\n",
       "      <th>Same language</th>\n",
       "      <th>Siblings</th>\n",
       "      <th>Handicap</th>\n",
       "      <th>Father edu</th>\n",
       "      <th>Mother edu</th>\n",
       "      <th>...</th>\n",
       "      <th>Observe experiments</th>\n",
       "      <th>Conduct experiments</th>\n",
       "      <th>Solve science problems</th>\n",
       "      <th>Express science views</th>\n",
       "      <th>Watch TV</th>\n",
       "      <th>Read magazine</th>\n",
       "      <th>Read a book</th>\n",
       "      <th>Play games</th>\n",
       "      <th>Help in household</th>\n",
       "      <th>Mean</th>\n",
       "    </tr>\n",
       "  </thead>\n",
       "  <tbody>\n",
       "    <tr>\n",
       "      <th>0</th>\n",
       "      <td>1</td>\n",
       "      <td>1</td>\n",
       "      <td>1</td>\n",
       "      <td>3</td>\n",
       "      <td>3</td>\n",
       "      <td>1</td>\n",
       "      <td>5</td>\n",
       "      <td>2</td>\n",
       "      <td>1</td>\n",
       "      <td>1</td>\n",
       "      <td>...</td>\n",
       "      <td>3</td>\n",
       "      <td>3</td>\n",
       "      <td>3</td>\n",
       "      <td>3</td>\n",
       "      <td>3</td>\n",
       "      <td>4</td>\n",
       "      <td>3</td>\n",
       "      <td>4</td>\n",
       "      <td>4</td>\n",
       "      <td>24.075</td>\n",
       "    </tr>\n",
       "    <tr>\n",
       "      <th>1</th>\n",
       "      <td>1</td>\n",
       "      <td>1</td>\n",
       "      <td>2</td>\n",
       "      <td>3</td>\n",
       "      <td>4</td>\n",
       "      <td>2</td>\n",
       "      <td>5</td>\n",
       "      <td>2</td>\n",
       "      <td>2</td>\n",
       "      <td>1</td>\n",
       "      <td>...</td>\n",
       "      <td>3</td>\n",
       "      <td>3</td>\n",
       "      <td>3</td>\n",
       "      <td>3</td>\n",
       "      <td>4</td>\n",
       "      <td>4</td>\n",
       "      <td>3</td>\n",
       "      <td>4</td>\n",
       "      <td>4</td>\n",
       "      <td>25.570</td>\n",
       "    </tr>\n",
       "    <tr>\n",
       "      <th>2</th>\n",
       "      <td>1</td>\n",
       "      <td>1</td>\n",
       "      <td>2</td>\n",
       "      <td>3</td>\n",
       "      <td>4</td>\n",
       "      <td>2</td>\n",
       "      <td>5</td>\n",
       "      <td>2</td>\n",
       "      <td>1</td>\n",
       "      <td>1</td>\n",
       "      <td>...</td>\n",
       "      <td>3</td>\n",
       "      <td>3</td>\n",
       "      <td>3</td>\n",
       "      <td>3</td>\n",
       "      <td>4</td>\n",
       "      <td>3</td>\n",
       "      <td>3</td>\n",
       "      <td>4</td>\n",
       "      <td>4</td>\n",
       "      <td>48.890</td>\n",
       "    </tr>\n",
       "    <tr>\n",
       "      <th>3</th>\n",
       "      <td>1</td>\n",
       "      <td>1</td>\n",
       "      <td>2</td>\n",
       "      <td>3</td>\n",
       "      <td>3</td>\n",
       "      <td>2</td>\n",
       "      <td>4</td>\n",
       "      <td>2</td>\n",
       "      <td>1</td>\n",
       "      <td>1</td>\n",
       "      <td>...</td>\n",
       "      <td>3</td>\n",
       "      <td>3</td>\n",
       "      <td>3</td>\n",
       "      <td>3</td>\n",
       "      <td>4</td>\n",
       "      <td>3</td>\n",
       "      <td>3</td>\n",
       "      <td>4</td>\n",
       "      <td>4</td>\n",
       "      <td>46.335</td>\n",
       "    </tr>\n",
       "    <tr>\n",
       "      <th>4</th>\n",
       "      <td>1</td>\n",
       "      <td>1</td>\n",
       "      <td>2</td>\n",
       "      <td>3</td>\n",
       "      <td>3</td>\n",
       "      <td>2</td>\n",
       "      <td>5</td>\n",
       "      <td>2</td>\n",
       "      <td>1</td>\n",
       "      <td>1</td>\n",
       "      <td>...</td>\n",
       "      <td>3</td>\n",
       "      <td>3</td>\n",
       "      <td>3</td>\n",
       "      <td>3</td>\n",
       "      <td>2</td>\n",
       "      <td>3</td>\n",
       "      <td>3</td>\n",
       "      <td>4</td>\n",
       "      <td>4</td>\n",
       "      <td>11.440</td>\n",
       "    </tr>\n",
       "  </tbody>\n",
       "</table>\n",
       "<p>5 rows × 60 columns</p>\n",
       "</div>"
      ],
      "text/plain": [
       "   State  District  Gender  Age  Category  Same language  Siblings  Handicap  \\\n",
       "0      1         1       1    3         3              1         5         2   \n",
       "1      1         1       2    3         4              2         5         2   \n",
       "2      1         1       2    3         4              2         5         2   \n",
       "3      1         1       2    3         3              2         4         2   \n",
       "4      1         1       2    3         3              2         5         2   \n",
       "\n",
       "   Father edu  Mother edu   ...    Observe experiments  Conduct experiments  \\\n",
       "0           1           1   ...                      3                    3   \n",
       "1           2           1   ...                      3                    3   \n",
       "2           1           1   ...                      3                    3   \n",
       "3           1           1   ...                      3                    3   \n",
       "4           1           1   ...                      3                    3   \n",
       "\n",
       "   Solve science problems  Express science views  Watch TV  Read magazine  \\\n",
       "0                       3                      3         3              4   \n",
       "1                       3                      3         4              4   \n",
       "2                       3                      3         4              3   \n",
       "3                       3                      3         4              3   \n",
       "4                       3                      3         2              3   \n",
       "\n",
       "   Read a book  Play games  Help in household    Mean  \n",
       "0            3           4                  4  24.075  \n",
       "1            3           4                  4  25.570  \n",
       "2            3           4                  4  48.890  \n",
       "3            3           4                  4  46.335  \n",
       "4            3           4                  4  11.440  \n",
       "\n",
       "[5 rows x 60 columns]"
      ]
     },
     "execution_count": 10,
     "metadata": {},
     "output_type": "execute_result"
    }
   ],
   "source": [
    "# FIT AND TRANSFORM for Mean Dataset\n",
    "# use df.apply() to apply le.fit_transform on all columns\n",
    "NASdata_Mean_New = NASdata_Mean\n",
    "NASdata_Mean_Encoded = NASdata_Mean_New.apply(le.fit_transform)\n",
    "\n",
    "#Drop remaining Columns\n",
    "NASdata_Mean_Encoded_X = NASdata_Mean_Encoded.drop(['District', 'Gender', 'Age', 'Category', 'Same language', 'Siblings', 'Handicap', 'Father edu', 'Mother edu','Father occupation', 'Mother occupation', 'Below poverty','Use calculator', 'Use Internet', 'Use dictionary','Read other books', '# Books', 'Distance', 'Computer use','Library use', 'Like school', 'Give Lang HW','Give Math HW', 'Give Scie HW', 'Give SoSc HW', 'Correct Lang HW','Correct Math HW', 'Correct Scie HW', 'Correct SocS HW', 'Help in Study', 'Private tuition', 'English is difficult', 'Read English', 'Dictionary to learn', 'Answer English WB', 'Answer English aloud', 'Maths is difficult', 'Solve Maths','Solve Maths in groups', 'Draw geometry', 'Explain answers','SocSci is difficult', 'Historical excursions','Participate in SocSci', 'Small groups in SocSci','Express SocSci views', 'Science is difficult','Observe experiments', 'Conduct experiments', 'Solve science problems', 'Express science views', 'Watch TV', 'Read magazine', 'Read a book', 'Play games', 'Help in household','Mean'], axis = 1)\n",
    "\n",
    "#Drop the 3 columns to include the same encoded columns\n",
    "NASdata_Mean_New = NASdata_Mean_New.drop(['State','Use computer','Subjects'], axis = 1)\n",
    "# Concatinating the DataFrames\n",
    "NASdata_Mean_New1 = pd.concat([NASdata_Mean_Encoded_X, NASdata_Mean_New], axis=1)\n",
    "\n",
    "#Rearrange the columns in a proper order\n",
    "NASdata_Mean_New1 =  pd.DataFrame(NASdata_Mean_New1, columns=['State','District', 'Gender', 'Age', 'Category', 'Same language', 'Siblings', 'Handicap', 'Father edu', 'Mother edu','Father occupation', 'Mother occupation', 'Below poverty','Use calculator','Use computer', 'Use Internet', 'Use dictionary','Read other books', '# Books', 'Distance', 'Computer use','Library use', 'Like school','Subjects', 'Give Lang HW','Give Math HW', 'Give Scie HW', 'Give SoSc HW', 'Correct Lang HW','Correct Math HW', 'Correct Scie HW', 'Correct SocS HW', 'Help in Study', 'Private tuition', 'English is difficult', 'Read English', 'Dictionary to learn', 'Answer English WB', 'Answer English aloud', 'Maths is difficult', 'Solve Maths','Solve Maths in groups', 'Draw geometry', 'Explain answers','SocSci is difficult', 'Historical excursions','Participate in SocSci', 'Small groups in SocSci','Express SocSci views', 'Science is difficult','Observe experiments', 'Conduct experiments', 'Solve science problems', 'Express science views', 'Watch TV', 'Read magazine', 'Read a book', 'Play games', 'Help in household','Mean'])\n",
    "NASdata_Mean_New1.head()"
   ]
  },
  {
   "cell_type": "code",
   "execution_count": 11,
   "metadata": {
    "collapsed": false
   },
   "outputs": [
    {
     "data": {
      "text/plain": [
       "array([ 1,  2,  3,  4,  7,  9, 10, 12, 11, 14, 13, 15, 16, 20, 18, 19, 17,\n",
       "       21, 22, 23, 24, 26, 27, 28, 29, 31, 30, 32,  0,  5, 25,  8,  6], dtype=int64)"
      ]
     },
     "execution_count": 11,
     "metadata": {},
     "output_type": "execute_result"
    }
   ],
   "source": [
    "NASdata_Mean_New1['State'].unique()"
   ]
  },
  {
   "cell_type": "markdown",
   "metadata": {},
   "source": [
    "At 95% Confidence Level,\n",
    "Null Hypothesis H0: The performance of Boys and Girls is same across states.\n",
    "Alternate Hypothesis H1: Boys and Girls perform differently across the states."
   ]
  },
  {
   "cell_type": "code",
   "execution_count": 12,
   "metadata": {
    "collapsed": false
   },
   "outputs": [
    {
     "data": {
      "text/plain": [
       "count    78168.000000\n",
       "mean        37.861945\n",
       "std         14.824469\n",
       "min          0.000000\n",
       "25%         26.895000\n",
       "50%         35.225000\n",
       "75%         46.820000\n",
       "max         96.670000\n",
       "Name: Mean, dtype: float64"
      ]
     },
     "execution_count": 12,
     "metadata": {},
     "output_type": "execute_result"
    }
   ],
   "source": [
    "NASdata_Mean_Boys = NASdata_Mean_New1[NASdata_Mean_New1.Gender==1]\n",
    "NASdata_Mean_Girls = NASdata_Mean_New1[NASdata_Mean_New1.Gender==2]\n",
    "NASdata_Mean_Boys['Mean'].describe()     #Mean value is 37.861945"
   ]
  },
  {
   "cell_type": "code",
   "execution_count": 13,
   "metadata": {
    "collapsed": false
   },
   "outputs": [
    {
     "data": {
      "text/plain": [
       "count    83673.000000\n",
       "mean        38.620648\n",
       "std         15.012565\n",
       "min          0.000000\n",
       "25%         27.545000\n",
       "50%         36.370000\n",
       "75%         48.000000\n",
       "max        100.000000\n",
       "Name: Mean, dtype: float64"
      ]
     },
     "execution_count": 13,
     "metadata": {},
     "output_type": "execute_result"
    }
   ],
   "source": [
    "NASdata_Mean_Girls['Mean'].describe()    #Mean value is 38.620648"
   ]
  },
  {
   "cell_type": "code",
   "execution_count": 14,
   "metadata": {
    "collapsed": true
   },
   "outputs": [],
   "source": [
    "from scipy.stats import ttest_ind"
   ]
  },
  {
   "cell_type": "code",
   "execution_count": 15,
   "metadata": {
    "collapsed": false
   },
   "outputs": [],
   "source": [
    "#For the t-test calculation, take the mean values of the 'Mean' column grouped by each State for 'Gender' == 1(Boys) into Group 1 and \n",
    "#take the mean values of the 'Mean' column grouped by each State for 'Gender' == 2(Girls) into Group 2\n",
    "group1 = NASdata_Mean_New1[NASdata_Mean_New1.Gender == 1].groupby('State')['Mean'].mean()\n",
    "group2 = NASdata_Mean_New1[NASdata_Mean_New1.Gender == 2].groupby('State')['Mean'].mean()"
   ]
  },
  {
   "cell_type": "code",
   "execution_count": 16,
   "metadata": {
    "collapsed": false
   },
   "outputs": [
    {
     "data": {
      "text/plain": [
       "State\n",
       "0    37.395934\n",
       "1    34.260298\n",
       "2    36.532420\n",
       "3    39.902583\n",
       "4    36.046169\n",
       "Name: Mean, dtype: float64"
      ]
     },
     "execution_count": 16,
     "metadata": {},
     "output_type": "execute_result"
    }
   ],
   "source": [
    "group1.head()"
   ]
  },
  {
   "cell_type": "code",
   "execution_count": 17,
   "metadata": {
    "collapsed": false
   },
   "outputs": [
    {
     "data": {
      "text/plain": [
       "State\n",
       "0    39.035124\n",
       "1    34.867408\n",
       "2    35.255696\n",
       "3    37.942931\n",
       "4    35.778946\n",
       "Name: Mean, dtype: float64"
      ]
     },
     "execution_count": 17,
     "metadata": {},
     "output_type": "execute_result"
    }
   ],
   "source": [
    "group2.head()"
   ]
  },
  {
   "cell_type": "code",
   "execution_count": 18,
   "metadata": {
    "collapsed": false
   },
   "outputs": [],
   "source": [
    "#2 Sample t test\n",
    "t, p = ttest_ind(group1, group2)"
   ]
  },
  {
   "cell_type": "code",
   "execution_count": 19,
   "metadata": {
    "collapsed": false
   },
   "outputs": [
    {
     "name": "stdout",
     "output_type": "stream",
     "text": [
      "-0.603467885505\n",
      "0.548330368549\n"
     ]
    }
   ],
   "source": [
    "print t    #t value\n",
    "print p    #p value"
   ]
  },
  {
   "cell_type": "markdown",
   "metadata": {},
   "source": [
    "Since the above p value(0.548330368549) is much higher than 0.05 (95% Confidence Level), we have failed to reject the Null Hypothesis H0 and we can say that the performance of Boys and Girls across states differ, with performance of Girls(38.620648) is better than the performance of Boys(37.861945)."
   ]
  }
 ],
 "metadata": {
  "kernelspec": {
   "display_name": "Python 2",
   "language": "python",
   "name": "python2"
  },
  "language_info": {
   "codemirror_mode": {
    "name": "ipython",
    "version": 2
   },
   "file_extension": ".py",
   "mimetype": "text/x-python",
   "name": "python",
   "nbconvert_exporter": "python",
   "pygments_lexer": "ipython2",
   "version": "2.7.11"
  }
 },
 "nbformat": 4,
 "nbformat_minor": 0
}
