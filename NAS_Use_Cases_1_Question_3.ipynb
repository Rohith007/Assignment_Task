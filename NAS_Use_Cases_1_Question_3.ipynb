{
 "cells": [
  {
   "cell_type": "code",
   "execution_count": 1,
   "metadata": {
    "collapsed": true
   },
   "outputs": [],
   "source": [
    "import pandas as pd\n",
    "import numpy as np"
   ]
  },
  {
   "cell_type": "code",
   "execution_count": 2,
   "metadata": {
    "collapsed": false
   },
   "outputs": [],
   "source": [
    "NASdata = pd.read_csv(\"C:/Users/Rohith007/Downloads/ISB_CBA/BigDataManagement 1/71710097_BDM_Assignment_1/nas-pupil-marks.csv\")"
   ]
  },
  {
   "cell_type": "code",
   "execution_count": 3,
   "metadata": {
    "collapsed": false
   },
   "outputs": [],
   "source": [
    "# Create a new column called df.Is_South_India where the value is 1\n",
    "# if it is a South Indian State, else 0.\n",
    "NASdata['Is_South_India'] = np.where((NASdata['State']=='AN')|(NASdata['State']=='AP')|(NASdata['State']=='GA')|(NASdata['State']=='KA')|(NASdata['State']=='KL')|(NASdata['State']=='PY')|(NASdata['State']=='TN'), 1, 0)"
   ]
  },
  {
   "cell_type": "code",
   "execution_count": 4,
   "metadata": {
    "collapsed": false
   },
   "outputs": [
    {
     "data": {
      "text/html": [
       "<div>\n",
       "<table border=\"1\" class=\"dataframe\">\n",
       "  <thead>\n",
       "    <tr style=\"text-align: right;\">\n",
       "      <th></th>\n",
       "      <th>State</th>\n",
       "      <th>District</th>\n",
       "      <th>Gender</th>\n",
       "      <th>Age</th>\n",
       "      <th>Category</th>\n",
       "      <th>Same language</th>\n",
       "      <th>Siblings</th>\n",
       "      <th>Handicap</th>\n",
       "      <th>Father edu</th>\n",
       "      <th>Mother edu</th>\n",
       "      <th>...</th>\n",
       "      <th>Express science views</th>\n",
       "      <th>Watch TV</th>\n",
       "      <th>Read magazine</th>\n",
       "      <th>Read a book</th>\n",
       "      <th>Play games</th>\n",
       "      <th>Help in household</th>\n",
       "      <th>Maths %</th>\n",
       "      <th>Science %</th>\n",
       "      <th>Is_South_India</th>\n",
       "      <th>Mean</th>\n",
       "    </tr>\n",
       "  </thead>\n",
       "  <tbody>\n",
       "    <tr>\n",
       "      <th>0</th>\n",
       "      <td>AP</td>\n",
       "      <td>1</td>\n",
       "      <td>1</td>\n",
       "      <td>3</td>\n",
       "      <td>3</td>\n",
       "      <td>1</td>\n",
       "      <td>5</td>\n",
       "      <td>2</td>\n",
       "      <td>1</td>\n",
       "      <td>1</td>\n",
       "      <td>...</td>\n",
       "      <td>3</td>\n",
       "      <td>3</td>\n",
       "      <td>4</td>\n",
       "      <td>3</td>\n",
       "      <td>4</td>\n",
       "      <td>4</td>\n",
       "      <td>20.37</td>\n",
       "      <td>27.78</td>\n",
       "      <td>1</td>\n",
       "      <td>24.075</td>\n",
       "    </tr>\n",
       "    <tr>\n",
       "      <th>1</th>\n",
       "      <td>AP</td>\n",
       "      <td>1</td>\n",
       "      <td>2</td>\n",
       "      <td>3</td>\n",
       "      <td>4</td>\n",
       "      <td>2</td>\n",
       "      <td>5</td>\n",
       "      <td>2</td>\n",
       "      <td>2</td>\n",
       "      <td>1</td>\n",
       "      <td>...</td>\n",
       "      <td>3</td>\n",
       "      <td>4</td>\n",
       "      <td>4</td>\n",
       "      <td>3</td>\n",
       "      <td>4</td>\n",
       "      <td>4</td>\n",
       "      <td>12.96</td>\n",
       "      <td>38.18</td>\n",
       "      <td>1</td>\n",
       "      <td>25.570</td>\n",
       "    </tr>\n",
       "    <tr>\n",
       "      <th>2</th>\n",
       "      <td>AP</td>\n",
       "      <td>1</td>\n",
       "      <td>2</td>\n",
       "      <td>3</td>\n",
       "      <td>4</td>\n",
       "      <td>2</td>\n",
       "      <td>5</td>\n",
       "      <td>2</td>\n",
       "      <td>1</td>\n",
       "      <td>1</td>\n",
       "      <td>...</td>\n",
       "      <td>3</td>\n",
       "      <td>4</td>\n",
       "      <td>3</td>\n",
       "      <td>3</td>\n",
       "      <td>4</td>\n",
       "      <td>4</td>\n",
       "      <td>27.78</td>\n",
       "      <td>NaN</td>\n",
       "      <td>1</td>\n",
       "      <td>27.780</td>\n",
       "    </tr>\n",
       "    <tr>\n",
       "      <th>3</th>\n",
       "      <td>AP</td>\n",
       "      <td>1</td>\n",
       "      <td>2</td>\n",
       "      <td>3</td>\n",
       "      <td>3</td>\n",
       "      <td>2</td>\n",
       "      <td>4</td>\n",
       "      <td>2</td>\n",
       "      <td>1</td>\n",
       "      <td>1</td>\n",
       "      <td>...</td>\n",
       "      <td>3</td>\n",
       "      <td>4</td>\n",
       "      <td>3</td>\n",
       "      <td>3</td>\n",
       "      <td>4</td>\n",
       "      <td>4</td>\n",
       "      <td>NaN</td>\n",
       "      <td>NaN</td>\n",
       "      <td>1</td>\n",
       "      <td>NaN</td>\n",
       "    </tr>\n",
       "    <tr>\n",
       "      <th>4</th>\n",
       "      <td>AP</td>\n",
       "      <td>1</td>\n",
       "      <td>2</td>\n",
       "      <td>3</td>\n",
       "      <td>3</td>\n",
       "      <td>2</td>\n",
       "      <td>5</td>\n",
       "      <td>2</td>\n",
       "      <td>1</td>\n",
       "      <td>1</td>\n",
       "      <td>...</td>\n",
       "      <td>3</td>\n",
       "      <td>2</td>\n",
       "      <td>3</td>\n",
       "      <td>3</td>\n",
       "      <td>4</td>\n",
       "      <td>4</td>\n",
       "      <td>NaN</td>\n",
       "      <td>14.55</td>\n",
       "      <td>1</td>\n",
       "      <td>14.550</td>\n",
       "    </tr>\n",
       "  </tbody>\n",
       "</table>\n",
       "<p>5 rows × 63 columns</p>\n",
       "</div>"
      ],
      "text/plain": [
       "  State  District  Gender  Age  Category  Same language  Siblings  Handicap  \\\n",
       "0    AP         1       1    3         3              1         5         2   \n",
       "1    AP         1       2    3         4              2         5         2   \n",
       "2    AP         1       2    3         4              2         5         2   \n",
       "3    AP         1       2    3         3              2         4         2   \n",
       "4    AP         1       2    3         3              2         5         2   \n",
       "\n",
       "   Father edu  Mother edu   ...    Express science views  Watch TV  \\\n",
       "0           1           1   ...                        3         3   \n",
       "1           2           1   ...                        3         4   \n",
       "2           1           1   ...                        3         4   \n",
       "3           1           1   ...                        3         4   \n",
       "4           1           1   ...                        3         2   \n",
       "\n",
       "   Read magazine  Read a book Play games  Help in household  Maths %  \\\n",
       "0              4            3          4                  4    20.37   \n",
       "1              4            3          4                  4    12.96   \n",
       "2              3            3          4                  4    27.78   \n",
       "3              3            3          4                  4      NaN   \n",
       "4              3            3          4                  4      NaN   \n",
       "\n",
       "   Science %  Is_South_India    Mean  \n",
       "0      27.78               1  24.075  \n",
       "1      38.18               1  25.570  \n",
       "2        NaN               1  27.780  \n",
       "3        NaN               1     NaN  \n",
       "4      14.55               1  14.550  \n",
       "\n",
       "[5 rows x 63 columns]"
      ]
     },
     "execution_count": 4,
     "metadata": {},
     "output_type": "execute_result"
    }
   ],
   "source": [
    "NASdata_Maths_Science = NASdata.drop(['STUID','Reading %','Social %'], axis = 1)\n",
    "NASdata_Maths_Science['Mean'] = NASdata_Maths_Science[['Maths %','Science %']].mean(axis=1)\n",
    "NASdata_Maths_Science.head()"
   ]
  },
  {
   "cell_type": "code",
   "execution_count": 5,
   "metadata": {
    "collapsed": false
   },
   "outputs": [
    {
     "data": {
      "text/html": [
       "<div>\n",
       "<table border=\"1\" class=\"dataframe\">\n",
       "  <thead>\n",
       "    <tr style=\"text-align: right;\">\n",
       "      <th></th>\n",
       "      <th>State</th>\n",
       "      <th>District</th>\n",
       "      <th>Gender</th>\n",
       "      <th>Age</th>\n",
       "      <th>Category</th>\n",
       "      <th>Same language</th>\n",
       "      <th>Siblings</th>\n",
       "      <th>Handicap</th>\n",
       "      <th>Father edu</th>\n",
       "      <th>Mother edu</th>\n",
       "      <th>...</th>\n",
       "      <th>Conduct experiments</th>\n",
       "      <th>Solve science problems</th>\n",
       "      <th>Express science views</th>\n",
       "      <th>Watch TV</th>\n",
       "      <th>Read magazine</th>\n",
       "      <th>Read a book</th>\n",
       "      <th>Play games</th>\n",
       "      <th>Help in household</th>\n",
       "      <th>Is_South_India</th>\n",
       "      <th>Mean</th>\n",
       "    </tr>\n",
       "  </thead>\n",
       "  <tbody>\n",
       "    <tr>\n",
       "      <th>0</th>\n",
       "      <td>AP</td>\n",
       "      <td>1</td>\n",
       "      <td>1</td>\n",
       "      <td>3</td>\n",
       "      <td>3</td>\n",
       "      <td>1</td>\n",
       "      <td>5</td>\n",
       "      <td>2</td>\n",
       "      <td>1</td>\n",
       "      <td>1</td>\n",
       "      <td>...</td>\n",
       "      <td>3</td>\n",
       "      <td>3</td>\n",
       "      <td>3</td>\n",
       "      <td>3</td>\n",
       "      <td>4</td>\n",
       "      <td>3</td>\n",
       "      <td>4</td>\n",
       "      <td>4</td>\n",
       "      <td>1</td>\n",
       "      <td>24.075</td>\n",
       "    </tr>\n",
       "    <tr>\n",
       "      <th>1</th>\n",
       "      <td>AP</td>\n",
       "      <td>1</td>\n",
       "      <td>2</td>\n",
       "      <td>3</td>\n",
       "      <td>4</td>\n",
       "      <td>2</td>\n",
       "      <td>5</td>\n",
       "      <td>2</td>\n",
       "      <td>2</td>\n",
       "      <td>1</td>\n",
       "      <td>...</td>\n",
       "      <td>3</td>\n",
       "      <td>3</td>\n",
       "      <td>3</td>\n",
       "      <td>4</td>\n",
       "      <td>4</td>\n",
       "      <td>3</td>\n",
       "      <td>4</td>\n",
       "      <td>4</td>\n",
       "      <td>1</td>\n",
       "      <td>25.570</td>\n",
       "    </tr>\n",
       "    <tr>\n",
       "      <th>2</th>\n",
       "      <td>AP</td>\n",
       "      <td>1</td>\n",
       "      <td>2</td>\n",
       "      <td>3</td>\n",
       "      <td>4</td>\n",
       "      <td>2</td>\n",
       "      <td>5</td>\n",
       "      <td>2</td>\n",
       "      <td>1</td>\n",
       "      <td>1</td>\n",
       "      <td>...</td>\n",
       "      <td>3</td>\n",
       "      <td>3</td>\n",
       "      <td>3</td>\n",
       "      <td>4</td>\n",
       "      <td>3</td>\n",
       "      <td>3</td>\n",
       "      <td>4</td>\n",
       "      <td>4</td>\n",
       "      <td>1</td>\n",
       "      <td>27.780</td>\n",
       "    </tr>\n",
       "    <tr>\n",
       "      <th>4</th>\n",
       "      <td>AP</td>\n",
       "      <td>1</td>\n",
       "      <td>2</td>\n",
       "      <td>3</td>\n",
       "      <td>3</td>\n",
       "      <td>2</td>\n",
       "      <td>5</td>\n",
       "      <td>2</td>\n",
       "      <td>1</td>\n",
       "      <td>1</td>\n",
       "      <td>...</td>\n",
       "      <td>3</td>\n",
       "      <td>3</td>\n",
       "      <td>3</td>\n",
       "      <td>2</td>\n",
       "      <td>3</td>\n",
       "      <td>3</td>\n",
       "      <td>4</td>\n",
       "      <td>4</td>\n",
       "      <td>1</td>\n",
       "      <td>14.550</td>\n",
       "    </tr>\n",
       "    <tr>\n",
       "      <th>6</th>\n",
       "      <td>AP</td>\n",
       "      <td>1</td>\n",
       "      <td>2</td>\n",
       "      <td>3</td>\n",
       "      <td>4</td>\n",
       "      <td>2</td>\n",
       "      <td>2</td>\n",
       "      <td>2</td>\n",
       "      <td>1</td>\n",
       "      <td>1</td>\n",
       "      <td>...</td>\n",
       "      <td>3</td>\n",
       "      <td>3</td>\n",
       "      <td>3</td>\n",
       "      <td>4</td>\n",
       "      <td>4</td>\n",
       "      <td>4</td>\n",
       "      <td>4</td>\n",
       "      <td>4</td>\n",
       "      <td>1</td>\n",
       "      <td>40.740</td>\n",
       "    </tr>\n",
       "  </tbody>\n",
       "</table>\n",
       "<p>5 rows × 61 columns</p>\n",
       "</div>"
      ],
      "text/plain": [
       "  State  District  Gender  Age  Category  Same language  Siblings  Handicap  \\\n",
       "0    AP         1       1    3         3              1         5         2   \n",
       "1    AP         1       2    3         4              2         5         2   \n",
       "2    AP         1       2    3         4              2         5         2   \n",
       "4    AP         1       2    3         3              2         5         2   \n",
       "6    AP         1       2    3         4              2         2         2   \n",
       "\n",
       "   Father edu  Mother edu   ...    Conduct experiments  \\\n",
       "0           1           1   ...                      3   \n",
       "1           2           1   ...                      3   \n",
       "2           1           1   ...                      3   \n",
       "4           1           1   ...                      3   \n",
       "6           1           1   ...                      3   \n",
       "\n",
       "   Solve science problems  Express science views  Watch TV Read magazine  \\\n",
       "0                       3                      3         3             4   \n",
       "1                       3                      3         4             4   \n",
       "2                       3                      3         4             3   \n",
       "4                       3                      3         2             3   \n",
       "6                       3                      3         4             4   \n",
       "\n",
       "   Read a book  Play games  Help in household  Is_South_India    Mean  \n",
       "0            3           4                  4               1  24.075  \n",
       "1            3           4                  4               1  25.570  \n",
       "2            3           4                  4               1  27.780  \n",
       "4            3           4                  4               1  14.550  \n",
       "6            4           4                  4               1  40.740  \n",
       "\n",
       "[5 rows x 61 columns]"
      ]
     },
     "execution_count": 5,
     "metadata": {},
     "output_type": "execute_result"
    }
   ],
   "source": [
    "NASdata_Maths_Science_New = NASdata_Maths_Science.drop(['Maths %','Science %'], axis = 1)\n",
    "NASdata_Maths_Science_Mean = NASdata_Maths_Science_New.dropna()\n",
    "NASdata_Maths_Science_Mean.head()"
   ]
  },
  {
   "cell_type": "code",
   "execution_count": 6,
   "metadata": {
    "collapsed": false
   },
   "outputs": [
    {
     "data": {
      "text/plain": [
       "(148652, 61)"
      ]
     },
     "execution_count": 6,
     "metadata": {},
     "output_type": "execute_result"
    }
   ],
   "source": [
    "NASdata_Maths_Science_Mean.shape"
   ]
  },
  {
   "cell_type": "code",
   "execution_count": 7,
   "metadata": {
    "collapsed": false
   },
   "outputs": [
    {
     "data": {
      "text/plain": [
       "array(['State', 'District', 'Gender', 'Age', 'Category', 'Same language',\n",
       "       'Siblings', 'Handicap', 'Father edu', 'Mother edu',\n",
       "       'Father occupation', 'Mother occupation', 'Below poverty',\n",
       "       'Use calculator', 'Use computer', 'Use Internet', 'Use dictionary',\n",
       "       'Read other books', '# Books', 'Distance', 'Computer use',\n",
       "       'Library use', 'Like school', 'Subjects', 'Give Lang HW',\n",
       "       'Give Math HW', 'Give Scie HW', 'Give SoSc HW', 'Correct Lang HW',\n",
       "       'Correct Math HW', 'Correct Scie HW', 'Correct SocS HW',\n",
       "       'Help in Study', 'Private tuition', 'English is difficult',\n",
       "       'Read English', 'Dictionary to learn', 'Answer English WB',\n",
       "       'Answer English aloud', 'Maths is difficult', 'Solve Maths',\n",
       "       'Solve Maths in groups', 'Draw geometry', 'Explain answers',\n",
       "       'SocSci is difficult', 'Historical excursions',\n",
       "       'Participate in SocSci', 'Small groups in SocSci',\n",
       "       'Express SocSci views', 'Science is difficult',\n",
       "       'Observe experiments', 'Conduct experiments',\n",
       "       'Solve science problems', 'Express science views', 'Watch TV',\n",
       "       'Read magazine', 'Read a book', 'Play games', 'Help in household',\n",
       "       'Is_South_India', 'Mean'], dtype=object)"
      ]
     },
     "execution_count": 7,
     "metadata": {},
     "output_type": "execute_result"
    }
   ],
   "source": [
    "NASdata_Maths_Science_Mean.columns.values"
   ]
  },
  {
   "cell_type": "code",
   "execution_count": 8,
   "metadata": {
    "collapsed": true
   },
   "outputs": [],
   "source": [
    "# import preprocessing from sklearn\n",
    "from sklearn import preprocessing\n",
    "\n",
    "# encode labels with numeric values between 0 and n_classes-1.\n",
    "le = preprocessing.LabelEncoder()"
   ]
  },
  {
   "cell_type": "code",
   "execution_count": 9,
   "metadata": {
    "collapsed": false,
    "scrolled": true
   },
   "outputs": [
    {
     "data": {
      "text/html": [
       "<div>\n",
       "<table border=\"1\" class=\"dataframe\">\n",
       "  <thead>\n",
       "    <tr style=\"text-align: right;\">\n",
       "      <th></th>\n",
       "      <th>State</th>\n",
       "      <th>District</th>\n",
       "      <th>Gender</th>\n",
       "      <th>Age</th>\n",
       "      <th>Category</th>\n",
       "      <th>Same language</th>\n",
       "      <th>Siblings</th>\n",
       "      <th>Handicap</th>\n",
       "      <th>Father edu</th>\n",
       "      <th>Mother edu</th>\n",
       "      <th>...</th>\n",
       "      <th>Conduct experiments</th>\n",
       "      <th>Solve science problems</th>\n",
       "      <th>Express science views</th>\n",
       "      <th>Watch TV</th>\n",
       "      <th>Read magazine</th>\n",
       "      <th>Read a book</th>\n",
       "      <th>Play games</th>\n",
       "      <th>Help in household</th>\n",
       "      <th>Is_South_India</th>\n",
       "      <th>Mean</th>\n",
       "    </tr>\n",
       "  </thead>\n",
       "  <tbody>\n",
       "    <tr>\n",
       "      <th>0</th>\n",
       "      <td>1</td>\n",
       "      <td>1</td>\n",
       "      <td>1</td>\n",
       "      <td>3</td>\n",
       "      <td>3</td>\n",
       "      <td>1</td>\n",
       "      <td>5</td>\n",
       "      <td>2</td>\n",
       "      <td>1</td>\n",
       "      <td>1</td>\n",
       "      <td>...</td>\n",
       "      <td>3</td>\n",
       "      <td>3</td>\n",
       "      <td>3</td>\n",
       "      <td>3</td>\n",
       "      <td>4</td>\n",
       "      <td>3</td>\n",
       "      <td>4</td>\n",
       "      <td>4</td>\n",
       "      <td>1</td>\n",
       "      <td>24.075</td>\n",
       "    </tr>\n",
       "    <tr>\n",
       "      <th>1</th>\n",
       "      <td>1</td>\n",
       "      <td>1</td>\n",
       "      <td>2</td>\n",
       "      <td>3</td>\n",
       "      <td>4</td>\n",
       "      <td>2</td>\n",
       "      <td>5</td>\n",
       "      <td>2</td>\n",
       "      <td>2</td>\n",
       "      <td>1</td>\n",
       "      <td>...</td>\n",
       "      <td>3</td>\n",
       "      <td>3</td>\n",
       "      <td>3</td>\n",
       "      <td>4</td>\n",
       "      <td>4</td>\n",
       "      <td>3</td>\n",
       "      <td>4</td>\n",
       "      <td>4</td>\n",
       "      <td>1</td>\n",
       "      <td>25.570</td>\n",
       "    </tr>\n",
       "    <tr>\n",
       "      <th>2</th>\n",
       "      <td>1</td>\n",
       "      <td>1</td>\n",
       "      <td>2</td>\n",
       "      <td>3</td>\n",
       "      <td>4</td>\n",
       "      <td>2</td>\n",
       "      <td>5</td>\n",
       "      <td>2</td>\n",
       "      <td>1</td>\n",
       "      <td>1</td>\n",
       "      <td>...</td>\n",
       "      <td>3</td>\n",
       "      <td>3</td>\n",
       "      <td>3</td>\n",
       "      <td>4</td>\n",
       "      <td>3</td>\n",
       "      <td>3</td>\n",
       "      <td>4</td>\n",
       "      <td>4</td>\n",
       "      <td>1</td>\n",
       "      <td>27.780</td>\n",
       "    </tr>\n",
       "    <tr>\n",
       "      <th>4</th>\n",
       "      <td>1</td>\n",
       "      <td>1</td>\n",
       "      <td>2</td>\n",
       "      <td>3</td>\n",
       "      <td>3</td>\n",
       "      <td>2</td>\n",
       "      <td>5</td>\n",
       "      <td>2</td>\n",
       "      <td>1</td>\n",
       "      <td>1</td>\n",
       "      <td>...</td>\n",
       "      <td>3</td>\n",
       "      <td>3</td>\n",
       "      <td>3</td>\n",
       "      <td>2</td>\n",
       "      <td>3</td>\n",
       "      <td>3</td>\n",
       "      <td>4</td>\n",
       "      <td>4</td>\n",
       "      <td>1</td>\n",
       "      <td>14.550</td>\n",
       "    </tr>\n",
       "    <tr>\n",
       "      <th>6</th>\n",
       "      <td>1</td>\n",
       "      <td>1</td>\n",
       "      <td>2</td>\n",
       "      <td>3</td>\n",
       "      <td>4</td>\n",
       "      <td>2</td>\n",
       "      <td>2</td>\n",
       "      <td>2</td>\n",
       "      <td>1</td>\n",
       "      <td>1</td>\n",
       "      <td>...</td>\n",
       "      <td>3</td>\n",
       "      <td>3</td>\n",
       "      <td>3</td>\n",
       "      <td>4</td>\n",
       "      <td>4</td>\n",
       "      <td>4</td>\n",
       "      <td>4</td>\n",
       "      <td>4</td>\n",
       "      <td>1</td>\n",
       "      <td>40.740</td>\n",
       "    </tr>\n",
       "  </tbody>\n",
       "</table>\n",
       "<p>5 rows × 61 columns</p>\n",
       "</div>"
      ],
      "text/plain": [
       "   State  District  Gender  Age  Category  Same language  Siblings  Handicap  \\\n",
       "0      1         1       1    3         3              1         5         2   \n",
       "1      1         1       2    3         4              2         5         2   \n",
       "2      1         1       2    3         4              2         5         2   \n",
       "4      1         1       2    3         3              2         5         2   \n",
       "6      1         1       2    3         4              2         2         2   \n",
       "\n",
       "   Father edu  Mother edu   ...    Conduct experiments  \\\n",
       "0           1           1   ...                      3   \n",
       "1           2           1   ...                      3   \n",
       "2           1           1   ...                      3   \n",
       "4           1           1   ...                      3   \n",
       "6           1           1   ...                      3   \n",
       "\n",
       "   Solve science problems  Express science views  Watch TV  Read magazine  \\\n",
       "0                       3                      3         3              4   \n",
       "1                       3                      3         4              4   \n",
       "2                       3                      3         4              3   \n",
       "4                       3                      3         2              3   \n",
       "6                       3                      3         4              4   \n",
       "\n",
       "   Read a book  Play games  Help in household  Is_South_India    Mean  \n",
       "0            3           4                  4               1  24.075  \n",
       "1            3           4                  4               1  25.570  \n",
       "2            3           4                  4               1  27.780  \n",
       "4            3           4                  4               1  14.550  \n",
       "6            4           4                  4               1  40.740  \n",
       "\n",
       "[5 rows x 61 columns]"
      ]
     },
     "execution_count": 9,
     "metadata": {},
     "output_type": "execute_result"
    }
   ],
   "source": [
    "# FIT AND TRANSFORM for Mean Dataset\n",
    "# use df.apply() to apply le.fit_transform to all columns\n",
    "NASdata_Mean_New = NASdata_Maths_Science_Mean\n",
    "NASdata_Mean_Encoded = NASdata_Mean_New.apply(le.fit_transform)\n",
    "\n",
    "#Drop remaining Columns\n",
    "NASdata_Mean_Encoded_X = NASdata_Mean_Encoded.drop(['District', 'Gender', 'Age', 'Category', 'Same language', 'Siblings', 'Handicap', 'Father edu', 'Mother edu','Father occupation', 'Mother occupation', 'Below poverty','Use calculator', 'Use Internet', 'Use dictionary','Read other books', '# Books', 'Distance', 'Computer use','Library use', 'Like school', 'Give Lang HW','Give Math HW', 'Give Scie HW', 'Give SoSc HW', 'Correct Lang HW','Correct Math HW', 'Correct Scie HW', 'Correct SocS HW', 'Help in Study', 'Private tuition', 'English is difficult', 'Read English', 'Dictionary to learn', 'Answer English WB', 'Answer English aloud', 'Maths is difficult', 'Solve Maths','Solve Maths in groups', 'Draw geometry', 'Explain answers','SocSci is difficult', 'Historical excursions','Participate in SocSci', 'Small groups in SocSci','Express SocSci views', 'Science is difficult','Observe experiments', 'Conduct experiments', 'Solve science problems', 'Express science views', 'Watch TV', 'Read magazine', 'Read a book', 'Play games', 'Help in household','Is_South_India','Mean'], axis = 1)\n",
    "\n",
    "#Drop the 3 columns to include the same encoded columns\n",
    "NASdata_Mean_New = NASdata_Mean_New.drop(['State','Use computer','Subjects'], axis = 1)\n",
    "# Concatinating the DataFrames\n",
    "NASdata_Mean_New1 = pd.concat([NASdata_Mean_Encoded_X, NASdata_Mean_New], axis=1)\n",
    "\n",
    "#Rearrange the columns in a proper order\n",
    "NASdata_Mean_New1 =  pd.DataFrame(NASdata_Mean_New1, columns=['State','District', 'Gender', 'Age', 'Category', 'Same language', 'Siblings', 'Handicap', 'Father edu', 'Mother edu','Father occupation', 'Mother occupation', 'Below poverty','Use calculator','Use computer', 'Use Internet', 'Use dictionary','Read other books', '# Books', 'Distance', 'Computer use','Library use', 'Like school','Subjects', 'Give Lang HW','Give Math HW', 'Give Scie HW', 'Give SoSc HW', 'Correct Lang HW','Correct Math HW', 'Correct Scie HW', 'Correct SocS HW', 'Help in Study', 'Private tuition', 'English is difficult', 'Read English', 'Dictionary to learn', 'Answer English WB', 'Answer English aloud', 'Maths is difficult', 'Solve Maths','Solve Maths in groups', 'Draw geometry', 'Explain answers','SocSci is difficult', 'Historical excursions','Participate in SocSci', 'Small groups in SocSci','Express SocSci views', 'Science is difficult','Observe experiments', 'Conduct experiments', 'Solve science problems', 'Express science views', 'Watch TV', 'Read magazine', 'Read a book', 'Play games', 'Help in household','Is_South_India','Mean'])\n",
    "NASdata_Mean_New1.head()"
   ]
  },
  {
   "cell_type": "code",
   "execution_count": 10,
   "metadata": {
    "collapsed": false
   },
   "outputs": [
    {
     "data": {
      "text/plain": [
       "array([ 1,  2,  3,  4,  7,  9, 10, 12, 11, 14, 13, 15, 16, 20, 18, 19, 17,\n",
       "       21, 22, 23, 24, 26, 27, 28, 29, 31, 30, 32,  0,  5, 25,  8,  6], dtype=int64)"
      ]
     },
     "execution_count": 10,
     "metadata": {},
     "output_type": "execute_result"
    }
   ],
   "source": [
    "NASdata_Mean_New1['State'].unique()"
   ]
  },
  {
   "cell_type": "markdown",
   "metadata": {},
   "source": [
    "At 95% Confidence Level,\n",
    "Null Hypothesis H0: The students from South Indian states really excell in Maths and Science.\n",
    "Alternate Hypothesis H1: The students from Other Indian states excell in Maths and Science than the students from South Indian states."
   ]
  },
  {
   "cell_type": "code",
   "execution_count": 11,
   "metadata": {
    "collapsed": false
   },
   "outputs": [
    {
     "data": {
      "text/plain": [
       "count    41889.000000\n",
       "mean        32.093647\n",
       "std         13.463817\n",
       "min          0.000000\n",
       "25%         23.210000\n",
       "50%         29.630000\n",
       "75%         38.180000\n",
       "max         96.430000\n",
       "Name: Mean, dtype: float64"
      ]
     },
     "execution_count": 11,
     "metadata": {},
     "output_type": "execute_result"
    }
   ],
   "source": [
    "NASdata_Mean_South = NASdata_Mean_New1[NASdata_Mean_New1.Is_South_India==1]\n",
    "NASdata_Mean_Others = NASdata_Mean_New1[NASdata_Mean_New1.Is_South_India==0]\n",
    "NASdata_Mean_South['Mean'].describe()     #Mean value is 32.093647"
   ]
  },
  {
   "cell_type": "code",
   "execution_count": 12,
   "metadata": {
    "collapsed": false
   },
   "outputs": [
    {
     "data": {
      "text/plain": [
       "count    106763.000000\n",
       "mean         35.109863\n",
       "std          16.039660\n",
       "min           0.000000\n",
       "25%          23.730000\n",
       "50%          30.910000\n",
       "75%          42.920000\n",
       "max         100.000000\n",
       "Name: Mean, dtype: float64"
      ]
     },
     "execution_count": 12,
     "metadata": {},
     "output_type": "execute_result"
    }
   ],
   "source": [
    "NASdata_Mean_Others['Mean'].describe()     #Mean value is 35.109863"
   ]
  },
  {
   "cell_type": "code",
   "execution_count": 13,
   "metadata": {
    "collapsed": true
   },
   "outputs": [],
   "source": [
    "from scipy.stats import ttest_ind"
   ]
  },
  {
   "cell_type": "code",
   "execution_count": 14,
   "metadata": {
    "collapsed": true
   },
   "outputs": [],
   "source": [
    "#For the t-test calculation, take the mean values of the 'Mean' column grouped by each State for 'Is_South_India' == 1(South States) into Group 1 and \n",
    "#take the mean values of the 'Mean' column grouped by each State for 'Is_South_India' == 2(Other States) into Group 2\n",
    "group1 = NASdata_Mean_New1[NASdata_Mean_New1.Is_South_India == 1].groupby('State')['Mean'].mean()\n",
    "group2 = NASdata_Mean_New1[NASdata_Mean_New1.Is_South_India == 0].groupby('State')['Mean'].mean()"
   ]
  },
  {
   "cell_type": "code",
   "execution_count": 15,
   "metadata": {
    "collapsed": false
   },
   "outputs": [
    {
     "data": {
      "text/plain": [
       "State\n",
       "0     35.475732\n",
       "1     30.786039\n",
       "9     36.496518\n",
       "15    33.259847\n",
       "16    33.968996\n",
       "25    27.813491\n",
       "28    29.743934\n",
       "Name: Mean, dtype: float64"
      ]
     },
     "execution_count": 15,
     "metadata": {},
     "output_type": "execute_result"
    }
   ],
   "source": [
    "group1"
   ]
  },
  {
   "cell_type": "code",
   "execution_count": 16,
   "metadata": {
    "collapsed": false
   },
   "outputs": [
    {
     "data": {
      "text/plain": [
       "State\n",
       "2     31.979261\n",
       "3     36.487588\n",
       "4     30.931173\n",
       "5     33.339750\n",
       "6     43.777748\n",
       "7     29.790347\n",
       "8     42.105834\n",
       "10    32.720812\n",
       "11    30.809916\n",
       "12    34.357438\n",
       "13    37.022042\n",
       "14    36.311994\n",
       "17    30.515575\n",
       "18    34.756615\n",
       "19    39.838305\n",
       "20    38.891621\n",
       "21    35.211571\n",
       "22    31.062119\n",
       "23    36.303202\n",
       "24    35.030092\n",
       "26    33.853586\n",
       "27    34.068671\n",
       "29    42.504662\n",
       "30    31.337616\n",
       "31    43.802481\n",
       "32    37.204475\n",
       "Name: Mean, dtype: float64"
      ]
     },
     "execution_count": 16,
     "metadata": {},
     "output_type": "execute_result"
    }
   ],
   "source": [
    "group2"
   ]
  },
  {
   "cell_type": "code",
   "execution_count": 17,
   "metadata": {
    "collapsed": false
   },
   "outputs": [
    {
     "name": "stdout",
     "output_type": "stream",
     "text": [
      "-1.77862853078\n",
      "0.0851101160725\n"
     ]
    }
   ],
   "source": [
    "#2 sample t test\n",
    "t, p = ttest_ind(group1, group2)\n",
    "print t     #t value\n",
    "print p     #p value"
   ]
  },
  {
   "cell_type": "markdown",
   "metadata": {
    "collapsed": true
   },
   "source": [
    "Since the above p value(0.0851101160725) is much higher than 0.05 (95% Confidence Level), we have failed to reject the Null Hypothesis H0 and we can say that the students from Other Indian states(35.109863) excell in Maths and Science than the students from South Indian states(32.093647)."
   ]
  }
 ],
 "metadata": {
  "kernelspec": {
   "display_name": "Python 2",
   "language": "python",
   "name": "python2"
  },
  "language_info": {
   "codemirror_mode": {
    "name": "ipython",
    "version": 2
   },
   "file_extension": ".py",
   "mimetype": "text/x-python",
   "name": "python",
   "nbconvert_exporter": "python",
   "pygments_lexer": "ipython2",
   "version": "2.7.11"
  }
 },
 "nbformat": 4,
 "nbformat_minor": 0
}
